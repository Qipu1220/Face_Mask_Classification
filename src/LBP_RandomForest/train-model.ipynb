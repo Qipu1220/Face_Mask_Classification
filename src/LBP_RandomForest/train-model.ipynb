{
 "cells": [
  {
   "cell_type": "code",
   "execution_count": 1,
   "id": "bbb9641b",
   "metadata": {
    "execution": {
     "iopub.execute_input": "2025-05-16T09:50:34.757144Z",
     "iopub.status.busy": "2025-05-16T09:50:34.756804Z",
     "iopub.status.idle": "2025-05-16T09:50:37.665567Z",
     "shell.execute_reply": "2025-05-16T09:50:37.664519Z"
    },
    "papermill": {
     "duration": 2.914884,
     "end_time": "2025-05-16T09:50:37.667364",
     "exception": false,
     "start_time": "2025-05-16T09:50:34.752480",
     "status": "completed"
    },
    "tags": []
   },
   "outputs": [],
   "source": [
    "import os\n",
    "import numpy as np\n",
    "from PIL import Image\n",
    "import joblib\n",
    "import matplotlib.pyplot as plt\n",
    "\n",
    "from skimage.feature import local_binary_pattern\n",
    "from skimage import img_as_ubyte\n",
    "\n",
    "from sklearn.ensemble import RandomForestClassifier\n",
    "from sklearn.metrics import classification_report, accuracy_score\n",
    "from sklearn.model_selection import train_test_split\n",
    "from sklearn.preprocessing import LabelEncoder\n",
    "\n",
    "import optuna\n",
    "from tqdm import tqdm\n",
    "from pathlib import Path\n",
    "\n",
    "import joblib"
   ]
  },
  {
   "cell_type": "code",
   "execution_count": 2,
   "id": "61e556e2",
   "metadata": {
    "execution": {
     "iopub.execute_input": "2025-05-16T09:50:37.674081Z",
     "iopub.status.busy": "2025-05-16T09:50:37.673643Z",
     "iopub.status.idle": "2025-05-16T09:50:37.679181Z",
     "shell.execute_reply": "2025-05-16T09:50:37.678178Z"
    },
    "papermill": {
     "duration": 0.010336,
     "end_time": "2025-05-16T09:50:37.680741",
     "exception": false,
     "start_time": "2025-05-16T09:50:37.670405",
     "status": "completed"
    },
    "tags": []
   },
   "outputs": [],
   "source": [
    "# ====== Cấu hình ======\n",
    "DATA_DIR   = Path('/kaggle/input/face-mask-12k-images-dataset/Face Mask Dataset')\n",
    "SPLITS     = ['Train', 'Validation', 'Test']\n",
    "LABELS     = ['WithMask', 'WithoutMask']\n",
    "IMAGE_SIZE = (128, 128)\n",
    "\n",
    "LBP_RADIUS = 1\n",
    "LBP_POINTS = 8 * LBP_RADIUS\n",
    "LBP_METHOD = 'uniform'"
   ]
  },
  {
   "cell_type": "code",
   "execution_count": 3,
   "id": "67afa8b4",
   "metadata": {
    "execution": {
     "iopub.execute_input": "2025-05-16T09:50:37.686996Z",
     "iopub.status.busy": "2025-05-16T09:50:37.686640Z",
     "iopub.status.idle": "2025-05-16T09:50:37.692163Z",
     "shell.execute_reply": "2025-05-16T09:50:37.691040Z"
    },
    "papermill": {
     "duration": 0.010556,
     "end_time": "2025-05-16T09:50:37.693909",
     "exception": false,
     "start_time": "2025-05-16T09:50:37.683353",
     "status": "completed"
    },
    "tags": []
   },
   "outputs": [],
   "source": [
    "# === LBP Bin ===\n",
    "def get_lbp_bins(method):\n",
    "    if method == 'default':\n",
    "        return 2 ** LBP_POINTS\n",
    "    elif method == 'ror':\n",
    "        return LBP_POINTS + 1\n",
    "    elif method == 'uniform':\n",
    "        return LBP_POINTS + 2\n",
    "    elif method == 'nri_uniform':\n",
    "        return LBP_POINTS * (LBP_POINTS - 1) + 3\n",
    "    else:\n",
    "        raise ValueError(f\"Unsupported LBP method: {method}\")"
   ]
  },
  {
   "cell_type": "code",
   "execution_count": 4,
   "id": "9a5478b3",
   "metadata": {
    "execution": {
     "iopub.execute_input": "2025-05-16T09:50:37.701106Z",
     "iopub.status.busy": "2025-05-16T09:50:37.700702Z",
     "iopub.status.idle": "2025-05-16T09:50:37.706731Z",
     "shell.execute_reply": "2025-05-16T09:50:37.705839Z"
    },
    "papermill": {
     "duration": 0.011884,
     "end_time": "2025-05-16T09:50:37.708414",
     "exception": false,
     "start_time": "2025-05-16T09:50:37.696530",
     "status": "completed"
    },
    "tags": []
   },
   "outputs": [],
   "source": [
    "# === Hàm trích xuất đặc trưng LBP ===\n",
    "def extract_lbp_features(image, method):\n",
    "    lbp = local_binary_pattern(image, LBP_POINTS, LBP_RADIUS, method)\n",
    "    n_bins = get_lbp_bins(method)\n",
    "    hist, _ = np.histogram(lbp.ravel(), bins=n_bins, range=(0, n_bins))\n",
    "    hist = hist.astype(\"float\")\n",
    "    hist /= (hist.sum() + 1e-7)\n",
    "    return hist, lbp"
   ]
  },
  {
   "cell_type": "code",
   "execution_count": 5,
   "id": "f5cebf5c",
   "metadata": {
    "execution": {
     "iopub.execute_input": "2025-05-16T09:50:37.715874Z",
     "iopub.status.busy": "2025-05-16T09:50:37.715589Z",
     "iopub.status.idle": "2025-05-16T09:50:37.724499Z",
     "shell.execute_reply": "2025-05-16T09:50:37.723470Z"
    },
    "papermill": {
     "duration": 0.015238,
     "end_time": "2025-05-16T09:50:37.726233",
     "exception": false,
     "start_time": "2025-05-16T09:50:37.710995",
     "status": "completed"
    },
    "tags": []
   },
   "outputs": [],
   "source": [
    "def load_split(split: str, method='default'):\n",
    "    X, y = [], []\n",
    "    for label in LABELS:\n",
    "        folder = DATA_DIR / split / label\n",
    "        for img_path in tqdm(list(folder.glob('*.*')), desc=f'Loading {split}/{label}'):\n",
    "            try:\n",
    "                image = Image.open(img_path).convert('L')  # chuyển ảnh về grayscale\n",
    "                image_np = np.array(image)\n",
    "                hist, _ = extract_lbp_features(image_np, method=method)\n",
    "                X.append(hist)\n",
    "                y.append(label)\n",
    "            except Exception as e:\n",
    "                print(f'-- error reading {img_path}: {e}')\n",
    "    return np.vstack(X), np.array(y)\n",
    "\n",
    "\n",
    "def objective(trial):\n",
    "    # Không gian tham số RF\n",
    "    params = {\n",
    "        'n_estimators'      : trial.suggest_int('n_estimators', 50, 300),\n",
    "        'max_depth'         : trial.suggest_int('max_depth', 5, 50),\n",
    "        'min_samples_split' : trial.suggest_int('min_samples_split', 2, 20),\n",
    "        'min_samples_leaf'  : trial.suggest_int('min_samples_leaf', 1, 10),\n",
    "        'max_features'      : trial.suggest_categorical('max_features', ['sqrt', 'log2', None]),\n",
    "        'random_state'      : 42,\n",
    "        'n_jobs'            : -1\n",
    "    }\n",
    "    clf = RandomForestClassifier(**params)\n",
    "    clf.fit(X_train, y_train_enc)\n",
    "    preds = clf.predict(X_val)\n",
    "    acc = accuracy_score(y_val_enc, preds)\n",
    "\n",
    "    # Lưu model vào user_attr của trial\n",
    "    trial.set_user_attr(\"model\", clf)\n",
    "    return acc"
   ]
  },
  {
   "cell_type": "code",
   "execution_count": 6,
   "id": "dce8310b",
   "metadata": {
    "execution": {
     "iopub.execute_input": "2025-05-16T09:50:37.732983Z",
     "iopub.status.busy": "2025-05-16T09:50:37.732640Z",
     "iopub.status.idle": "2025-05-16T09:52:34.768662Z",
     "shell.execute_reply": "2025-05-16T09:52:34.767579Z"
    },
    "papermill": {
     "duration": 117.041687,
     "end_time": "2025-05-16T09:52:34.770471",
     "exception": false,
     "start_time": "2025-05-16T09:50:37.728784",
     "status": "completed"
    },
    "tags": []
   },
   "outputs": [
    {
     "name": "stderr",
     "output_type": "stream",
     "text": [
      "Loading Train/WithMask: 100%|██████████| 5000/5000 [01:13<00:00, 67.77it/s]\n",
      "Loading Train/WithoutMask: 100%|██████████| 5000/5000 [00:34<00:00, 144.22it/s]\n",
      "Loading Validation/WithMask: 100%|██████████| 400/400 [00:05<00:00, 71.90it/s]\n",
      "Loading Validation/WithoutMask: 100%|██████████| 400/400 [00:02<00:00, 141.01it/s]\n"
     ]
    }
   ],
   "source": [
    "X_train, y_train = load_split('Train',LBP_METHOD)\n",
    "X_val,   y_val   = load_split('Validation',LBP_METHOD)\n",
    "\n",
    "le = LabelEncoder()\n",
    "y_train_enc = le.fit_transform(y_train)\n",
    "y_val_enc   = le.transform(y_val)"
   ]
  },
  {
   "cell_type": "code",
   "execution_count": 7,
   "id": "56cca0a6",
   "metadata": {
    "execution": {
     "iopub.execute_input": "2025-05-16T09:52:34.881936Z",
     "iopub.status.busy": "2025-05-16T09:52:34.881656Z",
     "iopub.status.idle": "2025-05-16T09:54:55.014527Z",
     "shell.execute_reply": "2025-05-16T09:54:55.013214Z"
    },
    "papermill": {
     "duration": 140.191308,
     "end_time": "2025-05-16T09:54:55.016312",
     "exception": false,
     "start_time": "2025-05-16T09:52:34.825004",
     "status": "completed"
    },
    "tags": []
   },
   "outputs": [
    {
     "name": "stderr",
     "output_type": "stream",
     "text": [
      "[I 2025-05-16 09:52:34,883] A new study created in memory with name: no-name-7b649c56-1085-4adc-a00e-ce8c49b0ef3b\n",
      "[I 2025-05-16 09:52:37,697] Trial 0 finished with value: 0.95375 and parameters: {'n_estimators': 262, 'max_depth': 11, 'min_samples_split': 18, 'min_samples_leaf': 1, 'max_features': 'log2'}. Best is trial 0 with value: 0.95375.\n",
      "[I 2025-05-16 09:52:41,253] Trial 1 finished with value: 0.96125 and parameters: {'n_estimators': 256, 'max_depth': 33, 'min_samples_split': 12, 'min_samples_leaf': 2, 'max_features': 'sqrt'}. Best is trial 1 with value: 0.96125.\n",
      "[I 2025-05-16 09:52:42,469] Trial 2 finished with value: 0.95 and parameters: {'n_estimators': 104, 'max_depth': 49, 'min_samples_split': 8, 'min_samples_leaf': 10, 'max_features': 'log2'}. Best is trial 1 with value: 0.96125.\n",
      "[I 2025-05-16 09:52:44,946] Trial 3 finished with value: 0.95125 and parameters: {'n_estimators': 216, 'max_depth': 25, 'min_samples_split': 8, 'min_samples_leaf': 10, 'max_features': 'log2'}. Best is trial 1 with value: 0.96125.\n",
      "[I 2025-05-16 09:52:51,037] Trial 4 finished with value: 0.9575 and parameters: {'n_estimators': 186, 'max_depth': 25, 'min_samples_split': 20, 'min_samples_leaf': 2, 'max_features': None}. Best is trial 1 with value: 0.96125.\n",
      "[I 2025-05-16 09:52:52,889] Trial 5 finished with value: 0.9525 and parameters: {'n_estimators': 166, 'max_depth': 13, 'min_samples_split': 15, 'min_samples_leaf': 6, 'max_features': 'log2'}. Best is trial 1 with value: 0.96125.\n",
      "[I 2025-05-16 09:52:54,192] Trial 6 finished with value: 0.955 and parameters: {'n_estimators': 111, 'max_depth': 23, 'min_samples_split': 19, 'min_samples_leaf': 6, 'max_features': 'log2'}. Best is trial 1 with value: 0.96125.\n",
      "[I 2025-05-16 09:52:55,665] Trial 7 finished with value: 0.95375 and parameters: {'n_estimators': 118, 'max_depth': 37, 'min_samples_split': 20, 'min_samples_leaf': 2, 'max_features': 'log2'}. Best is trial 1 with value: 0.96125.\n",
      "[I 2025-05-16 09:52:56,740] Trial 8 finished with value: 0.9525 and parameters: {'n_estimators': 92, 'max_depth': 37, 'min_samples_split': 12, 'min_samples_leaf': 9, 'max_features': 'sqrt'}. Best is trial 1 with value: 0.96125.\n",
      "[I 2025-05-16 09:52:58,452] Trial 9 finished with value: 0.965 and parameters: {'n_estimators': 137, 'max_depth': 25, 'min_samples_split': 7, 'min_samples_leaf': 2, 'max_features': 'sqrt'}. Best is trial 9 with value: 0.965.\n",
      "[I 2025-05-16 09:52:58,930] Trial 10 finished with value: 0.93375 and parameters: {'n_estimators': 51, 'max_depth': 5, 'min_samples_split': 2, 'min_samples_leaf': 4, 'max_features': 'sqrt'}. Best is trial 9 with value: 0.965.\n",
      "[I 2025-05-16 09:53:02,110] Trial 11 finished with value: 0.95875 and parameters: {'n_estimators': 271, 'max_depth': 37, 'min_samples_split': 5, 'min_samples_leaf': 4, 'max_features': 'sqrt'}. Best is trial 9 with value: 0.965.\n",
      "[I 2025-05-16 09:53:04,827] Trial 12 finished with value: 0.95875 and parameters: {'n_estimators': 226, 'max_depth': 32, 'min_samples_split': 11, 'min_samples_leaf': 4, 'max_features': 'sqrt'}. Best is trial 9 with value: 0.965.\n",
      "[I 2025-05-16 09:53:06,786] Trial 13 finished with value: 0.965 and parameters: {'n_estimators': 158, 'max_depth': 49, 'min_samples_split': 12, 'min_samples_leaf': 1, 'max_features': 'sqrt'}. Best is trial 9 with value: 0.965.\n",
      "[I 2025-05-16 09:53:12,794] Trial 14 finished with value: 0.96375 and parameters: {'n_estimators': 159, 'max_depth': 49, 'min_samples_split': 8, 'min_samples_leaf': 1, 'max_features': None}. Best is trial 9 with value: 0.965.\n",
      "[I 2025-05-16 09:53:14,563] Trial 15 finished with value: 0.95625 and parameters: {'n_estimators': 144, 'max_depth': 19, 'min_samples_split': 15, 'min_samples_leaf': 3, 'max_features': 'sqrt'}. Best is trial 9 with value: 0.965.\n",
      "[I 2025-05-16 09:53:16,831] Trial 16 finished with value: 0.95375 and parameters: {'n_estimators': 195, 'max_depth': 43, 'min_samples_split': 5, 'min_samples_leaf': 7, 'max_features': 'sqrt'}. Best is trial 9 with value: 0.965.\n",
      "[I 2025-05-16 09:53:20,564] Trial 17 finished with value: 0.96375 and parameters: {'n_estimators': 300, 'max_depth': 18, 'min_samples_split': 10, 'min_samples_leaf': 1, 'max_features': 'sqrt'}. Best is trial 9 with value: 0.965.\n",
      "[I 2025-05-16 09:53:24,976] Trial 18 finished with value: 0.9575 and parameters: {'n_estimators': 137, 'max_depth': 30, 'min_samples_split': 15, 'min_samples_leaf': 3, 'max_features': None}. Best is trial 9 with value: 0.965.\n",
      "[I 2025-05-16 09:53:25,876] Trial 19 finished with value: 0.95375 and parameters: {'n_estimators': 72, 'max_depth': 43, 'min_samples_split': 5, 'min_samples_leaf': 5, 'max_features': 'sqrt'}. Best is trial 9 with value: 0.965.\n",
      "[I 2025-05-16 09:53:27,440] Trial 20 finished with value: 0.95375 and parameters: {'n_estimators': 134, 'max_depth': 44, 'min_samples_split': 2, 'min_samples_leaf': 8, 'max_features': 'sqrt'}. Best is trial 9 with value: 0.965.\n",
      "[I 2025-05-16 09:53:32,781] Trial 21 finished with value: 0.9625 and parameters: {'n_estimators': 157, 'max_depth': 49, 'min_samples_split': 8, 'min_samples_leaf': 1, 'max_features': None}. Best is trial 9 with value: 0.965.\n",
      "[I 2025-05-16 09:53:38,961] Trial 22 finished with value: 0.9625 and parameters: {'n_estimators': 178, 'max_depth': 46, 'min_samples_split': 9, 'min_samples_leaf': 1, 'max_features': None}. Best is trial 9 with value: 0.965.\n",
      "[I 2025-05-16 09:53:46,316] Trial 23 finished with value: 0.96 and parameters: {'n_estimators': 203, 'max_depth': 40, 'min_samples_split': 6, 'min_samples_leaf': 3, 'max_features': None}. Best is trial 9 with value: 0.965.\n",
      "[I 2025-05-16 09:53:51,765] Trial 24 finished with value: 0.95875 and parameters: {'n_estimators': 165, 'max_depth': 50, 'min_samples_split': 13, 'min_samples_leaf': 2, 'max_features': None}. Best is trial 9 with value: 0.965.\n",
      "[I 2025-05-16 09:53:56,153] Trial 25 finished with value: 0.95875 and parameters: {'n_estimators': 130, 'max_depth': 28, 'min_samples_split': 7, 'min_samples_leaf': 1, 'max_features': None}. Best is trial 9 with value: 0.965.\n",
      "[I 2025-05-16 09:53:58,099] Trial 26 finished with value: 0.9625 and parameters: {'n_estimators': 155, 'max_depth': 20, 'min_samples_split': 4, 'min_samples_leaf': 3, 'max_features': 'sqrt'}. Best is trial 9 with value: 0.965.\n",
      "[I 2025-05-16 09:54:00,986] Trial 27 finished with value: 0.96 and parameters: {'n_estimators': 85, 'max_depth': 47, 'min_samples_split': 10, 'min_samples_leaf': 2, 'max_features': None}. Best is trial 9 with value: 0.965.\n",
      "[I 2025-05-16 09:54:03,713] Trial 28 finished with value: 0.95625 and parameters: {'n_estimators': 229, 'max_depth': 41, 'min_samples_split': 13, 'min_samples_leaf': 5, 'max_features': 'sqrt'}. Best is trial 9 with value: 0.965.\n",
      "[I 2025-05-16 09:54:08,784] Trial 29 finished with value: 0.9525 and parameters: {'n_estimators': 177, 'max_depth': 13, 'min_samples_split': 16, 'min_samples_leaf': 1, 'max_features': None}. Best is trial 9 with value: 0.965.\n",
      "[I 2025-05-16 09:54:10,327] Trial 30 finished with value: 0.96 and parameters: {'n_estimators': 121, 'max_depth': 34, 'min_samples_split': 17, 'min_samples_leaf': 1, 'max_features': 'sqrt'}. Best is trial 9 with value: 0.965.\n",
      "[I 2025-05-16 09:54:13,945] Trial 31 finished with value: 0.9625 and parameters: {'n_estimators': 297, 'max_depth': 20, 'min_samples_split': 10, 'min_samples_leaf': 1, 'max_features': 'sqrt'}. Best is trial 9 with value: 0.965.\n",
      "[I 2025-05-16 09:54:15,734] Trial 32 finished with value: 0.9625 and parameters: {'n_estimators': 148, 'max_depth': 16, 'min_samples_split': 10, 'min_samples_leaf': 2, 'max_features': 'sqrt'}. Best is trial 9 with value: 0.965.\n",
      "[I 2025-05-16 09:54:18,035] Trial 33 finished with value: 0.94 and parameters: {'n_estimators': 262, 'max_depth': 5, 'min_samples_split': 7, 'min_samples_leaf': 1, 'max_features': 'sqrt'}. Best is trial 9 with value: 0.965.\n",
      "[I 2025-05-16 09:54:21,852] Trial 34 finished with value: 0.96125 and parameters: {'n_estimators': 300, 'max_depth': 23, 'min_samples_split': 12, 'min_samples_leaf': 2, 'max_features': 'sqrt'}. Best is trial 9 with value: 0.965.\n",
      "[I 2025-05-16 09:54:24,711] Trial 35 finished with value: 0.95875 and parameters: {'n_estimators': 239, 'max_depth': 17, 'min_samples_split': 8, 'min_samples_leaf': 3, 'max_features': 'sqrt'}. Best is trial 9 with value: 0.965.\n",
      "[I 2025-05-16 09:54:26,694] Trial 36 finished with value: 0.95375 and parameters: {'n_estimators': 202, 'max_depth': 9, 'min_samples_split': 9, 'min_samples_leaf': 2, 'max_features': 'log2'}. Best is trial 9 with value: 0.965.\n",
      "[I 2025-05-16 09:54:27,963] Trial 37 finished with value: 0.96375 and parameters: {'n_estimators': 101, 'max_depth': 25, 'min_samples_split': 13, 'min_samples_leaf': 1, 'max_features': 'sqrt'}. Best is trial 9 with value: 0.965.\n",
      "[I 2025-05-16 09:54:30,169] Trial 38 finished with value: 0.965 and parameters: {'n_estimators': 170, 'max_depth': 28, 'min_samples_split': 11, 'min_samples_leaf': 2, 'max_features': 'log2'}. Best is trial 9 with value: 0.965.\n",
      "[I 2025-05-16 09:54:32,212] Trial 39 finished with value: 0.9575 and parameters: {'n_estimators': 167, 'max_depth': 47, 'min_samples_split': 11, 'min_samples_leaf': 4, 'max_features': 'log2'}. Best is trial 9 with value: 0.965.\n",
      "[I 2025-05-16 09:54:34,476] Trial 40 finished with value: 0.95875 and parameters: {'n_estimators': 188, 'max_depth': 28, 'min_samples_split': 14, 'min_samples_leaf': 3, 'max_features': 'log2'}. Best is trial 9 with value: 0.965.\n",
      "[I 2025-05-16 09:54:36,968] Trial 41 finished with value: 0.96 and parameters: {'n_estimators': 213, 'max_depth': 15, 'min_samples_split': 9, 'min_samples_leaf': 2, 'max_features': 'log2'}. Best is trial 9 with value: 0.965.\n",
      "[I 2025-05-16 09:54:38,562] Trial 42 finished with value: 0.955 and parameters: {'n_estimators': 154, 'max_depth': 10, 'min_samples_split': 11, 'min_samples_leaf': 1, 'max_features': 'log2'}. Best is trial 9 with value: 0.965.\n",
      "[I 2025-05-16 09:54:40,850] Trial 43 finished with value: 0.96375 and parameters: {'n_estimators': 180, 'max_depth': 34, 'min_samples_split': 7, 'min_samples_leaf': 2, 'max_features': 'log2'}. Best is trial 9 with value: 0.965.\n",
      "[I 2025-05-16 09:54:42,374] Trial 44 finished with value: 0.96375 and parameters: {'n_estimators': 122, 'max_depth': 25, 'min_samples_split': 11, 'min_samples_leaf': 2, 'max_features': 'log2'}. Best is trial 9 with value: 0.965.\n",
      "[I 2025-05-16 09:54:44,426] Trial 45 finished with value: 0.965 and parameters: {'n_estimators': 166, 'max_depth': 39, 'min_samples_split': 9, 'min_samples_leaf': 1, 'max_features': 'sqrt'}. Best is trial 9 with value: 0.965.\n",
      "[I 2025-05-16 09:54:46,522] Trial 46 finished with value: 0.96 and parameters: {'n_estimators': 169, 'max_depth': 39, 'min_samples_split': 8, 'min_samples_leaf': 2, 'max_features': 'sqrt'}. Best is trial 9 with value: 0.965.\n",
      "[I 2025-05-16 09:54:51,365] Trial 47 finished with value: 0.94875 and parameters: {'n_estimators': 142, 'max_depth': 30, 'min_samples_split': 6, 'min_samples_leaf': 10, 'max_features': None}. Best is trial 9 with value: 0.965.\n",
      "[I 2025-05-16 09:54:52,758] Trial 48 finished with value: 0.95625 and parameters: {'n_estimators': 109, 'max_depth': 36, 'min_samples_split': 12, 'min_samples_leaf': 3, 'max_features': 'sqrt'}. Best is trial 9 with value: 0.965.\n",
      "[I 2025-05-16 09:54:54,979] Trial 49 finished with value: 0.9525 and parameters: {'n_estimators': 191, 'max_depth': 44, 'min_samples_split': 3, 'min_samples_leaf': 9, 'max_features': 'log2'}. Best is trial 9 with value: 0.965.\n"
     ]
    },
    {
     "name": "stdout",
     "output_type": "stream",
     "text": [
      "Best validation accuracy: 0.965\n",
      "Best parameters: {'n_estimators': 137, 'max_depth': 25, 'min_samples_split': 7, 'min_samples_leaf': 2, 'max_features': 'sqrt'}\n"
     ]
    }
   ],
   "source": [
    "study = optuna.create_study(direction='maximize')\n",
    "study.optimize(objective, n_trials=50)\n",
    "\n",
    "print(\"Best validation accuracy:\", study.best_value)\n",
    "print(\"Best parameters:\", study.best_params)"
   ]
  },
  {
   "cell_type": "code",
   "execution_count": 8,
   "id": "c5ac2015",
   "metadata": {
    "execution": {
     "iopub.execute_input": "2025-05-16T09:54:55.125574Z",
     "iopub.status.busy": "2025-05-16T09:54:55.125076Z",
     "iopub.status.idle": "2025-05-16T09:55:06.151264Z",
     "shell.execute_reply": "2025-05-16T09:55:06.150196Z"
    },
    "papermill": {
     "duration": 11.083258,
     "end_time": "2025-05-16T09:55:06.152941",
     "exception": false,
     "start_time": "2025-05-16T09:54:55.069683",
     "status": "completed"
    },
    "tags": []
   },
   "outputs": [
    {
     "name": "stderr",
     "output_type": "stream",
     "text": [
      "Loading Test/WithMask: 100%|██████████| 483/483 [00:06<00:00, 69.18it/s]\n",
      "Loading Test/WithoutMask: 100%|██████████| 509/509 [00:03<00:00, 130.76it/s]\n"
     ]
    },
    {
     "name": "stdout",
     "output_type": "stream",
     "text": [
      "\n",
      "Test Accuracy: 0.96875\n",
      "\n",
      "Classification Report:\n",
      "              precision    recall  f1-score   support\n",
      "\n",
      "    WithMask       0.99      0.94      0.97       483\n",
      " WithoutMask       0.95      0.99      0.97       509\n",
      "\n",
      "    accuracy                           0.97       992\n",
      "   macro avg       0.97      0.97      0.97       992\n",
      "weighted avg       0.97      0.97      0.97       992\n",
      "\n"
     ]
    }
   ],
   "source": [
    "best_clf = study.best_trial.user_attrs[\"model\"]\n",
    "\n",
    "X_test, y_test  = load_split('Test',LBP_METHOD)\n",
    "y_test_enc      = le.transform(y_test)\n",
    "y_pred          = best_clf.predict(X_test)\n",
    "\n",
    "print(\"\\nTest Accuracy:\", accuracy_score(y_test_enc, y_pred))\n",
    "print(\"\\nClassification Report:\")\n",
    "print(classification_report(y_test_enc, y_pred, target_names=le.classes_))"
   ]
  },
  {
   "cell_type": "code",
   "execution_count": 9,
   "id": "86088222",
   "metadata": {
    "execution": {
     "iopub.execute_input": "2025-05-16T09:55:06.276189Z",
     "iopub.status.busy": "2025-05-16T09:55:06.275836Z",
     "iopub.status.idle": "2025-05-16T09:55:06.339678Z",
     "shell.execute_reply": "2025-05-16T09:55:06.338290Z"
    },
    "papermill": {
     "duration": 0.126785,
     "end_time": "2025-05-16T09:55:06.341852",
     "exception": false,
     "start_time": "2025-05-16T09:55:06.215067",
     "status": "completed"
    },
    "tags": []
   },
   "outputs": [
    {
     "name": "stdout",
     "output_type": "stream",
     "text": [
      "\n",
      "Model và encoder đã được lưu vào lbp_rf_face_mask_model_optuna.joblib\n"
     ]
    }
   ],
   "source": [
    "# ====== Lưu model và encoder ======\n",
    "joblib.dump({'model': best_clf, 'label_encoder': le},\n",
    "            'lbp_rf_face_mask_model_optuna_uniform.joblib')\n",
    "print('\\nModel và encoder đã được lưu vào lbp_rf_face_mask_model_optuna.joblib')"
   ]
  }
 ],
 "metadata": {
  "kaggle": {
   "accelerator": "none",
   "dataSources": [
    {
     "datasetId": 675484,
     "sourceId": 1187790,
     "sourceType": "datasetVersion"
    }
   ],
   "dockerImageVersionId": 31040,
   "isGpuEnabled": false,
   "isInternetEnabled": true,
   "language": "python",
   "sourceType": "notebook"
  },
  "kernelspec": {
   "display_name": "Python 3",
   "language": "python",
   "name": "python3"
  },
  "language_info": {
   "codemirror_mode": {
    "name": "ipython",
    "version": 3
   },
   "file_extension": ".py",
   "mimetype": "text/x-python",
   "name": "python",
   "nbconvert_exporter": "python",
   "pygments_lexer": "ipython3",
   "version": "3.11.11"
  },
  "papermill": {
   "default_parameters": {},
   "duration": 277.575665,
   "end_time": "2025-05-16T09:55:07.126232",
   "environment_variables": {},
   "exception": null,
   "input_path": "__notebook__.ipynb",
   "output_path": "__notebook__.ipynb",
   "parameters": {},
   "start_time": "2025-05-16T09:50:29.550567",
   "version": "2.6.0"
  }
 },
 "nbformat": 4,
 "nbformat_minor": 5
}
