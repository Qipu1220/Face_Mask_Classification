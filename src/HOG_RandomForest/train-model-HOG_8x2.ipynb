{
 "cells": [
  {
   "cell_type": "code",
   "execution_count": 1,
   "id": "4067e627",
   "metadata": {
    "execution": {
     "iopub.execute_input": "2025-05-15T14:36:20.244742Z",
     "iopub.status.busy": "2025-05-15T14:36:20.244393Z",
     "iopub.status.idle": "2025-05-15T14:36:23.136522Z",
     "shell.execute_reply": "2025-05-15T14:36:23.135656Z"
    },
    "papermill": {
     "duration": 2.898248,
     "end_time": "2025-05-15T14:36:23.138452",
     "exception": false,
     "start_time": "2025-05-15T14:36:20.240204",
     "status": "completed"
    },
    "tags": []
   },
   "outputs": [],
   "source": [
    "import os\n",
    "from pathlib import Path\n",
    "\n",
    "import numpy as np\n",
    "from skimage.io import imread\n",
    "from skimage.color import rgb2gray\n",
    "from skimage.transform import resize\n",
    "from skimage.feature import hog\n",
    "\n",
    "from sklearn.ensemble import RandomForestClassifier\n",
    "from sklearn.preprocessing import LabelEncoder\n",
    "from sklearn.metrics import accuracy_score, classification_report\n",
    "from tqdm import tqdm\n",
    "\n",
    "import optuna\n",
    "from optuna.pruners import MedianPruner\n",
    "from optuna.samplers import TPESampler\n",
    "import joblib"
   ]
  },
  {
   "cell_type": "code",
   "execution_count": 2,
   "id": "383612c8",
   "metadata": {
    "execution": {
     "iopub.execute_input": "2025-05-15T14:36:23.145243Z",
     "iopub.status.busy": "2025-05-15T14:36:23.144451Z",
     "iopub.status.idle": "2025-05-15T14:36:23.154081Z",
     "shell.execute_reply": "2025-05-15T14:36:23.153244Z"
    },
    "papermill": {
     "duration": 0.014198,
     "end_time": "2025-05-15T14:36:23.155574",
     "exception": false,
     "start_time": "2025-05-15T14:36:23.141376",
     "status": "completed"
    },
    "tags": []
   },
   "outputs": [],
   "source": [
    "def extract_hog_features(path: Path) -> np.ndarray:\n",
    "    img = imread(path)\n",
    "    gray = rgb2gray(img) if img.ndim == 3 else img\n",
    "    gray = resize(gray, IMAGE_SIZE, anti_aliasing=True)\n",
    "    return hog(gray, **HOG_PARAMS)\n",
    "\n",
    "def load_split(split: str):\n",
    "    X, y = [], []\n",
    "    for label in LABELS:\n",
    "        folder = DATA_DIR / split / label\n",
    "        for img_path in tqdm(list(folder.glob('*.*')), desc=f'Loading {split}/{label}'):\n",
    "            try:\n",
    "                X.append(extract_hog_features(img_path))\n",
    "                y.append(label)\n",
    "            except Exception as e:\n",
    "                print(f'-- error reading {img_path}: {e}')\n",
    "    return np.vstack(X), np.array(y)\n",
    "\n",
    "def objective(trial):\n",
    "    # Không gian tham số với warm_start để incremental fit :contentReference[oaicite:6]{index=6}\n",
    "    params = {\n",
    "        'n_estimators'      : 10,  # sẽ tăng dần\n",
    "        'max_depth'         : trial.suggest_int('max_depth', 5, 50),\n",
    "        'min_samples_split' : trial.suggest_int('min_samples_split', 2, 20),\n",
    "        'min_samples_leaf'  : trial.suggest_int('min_samples_leaf', 1, 10),\n",
    "        'max_features'      : trial.suggest_categorical('max_features', ['sqrt', 'log2']),  # bỏ None để giảm time\n",
    "        'random_state'      : 42,\n",
    "        'warm_start'        : True,\n",
    "        'n_jobs'            : 1\n",
    "    }\n",
    "    clf = RandomForestClassifier(**params)\n",
    "    # Incremental training & pruning :contentReference[oaicite:7]{index=7} :contentReference[oaicite:8]{index=8}\n",
    "    for n in [50, 100, 150, 200]:\n",
    "        clf.set_params(n_estimators=n)\n",
    "        clf.fit(X_train, y_train_enc)\n",
    "        acc = accuracy_score(y_val_enc, clf.predict(X_val))\n",
    "        trial.report(acc, n)\n",
    "        if trial.should_prune():\n",
    "            raise optuna.TrialPruned()\n",
    "    # Lưu instance model cuối cùng\n",
    "    trial.set_user_attr(\"model\", clf)\n",
    "    return acc"
   ]
  },
  {
   "cell_type": "code",
   "execution_count": 3,
   "id": "06edfd2c",
   "metadata": {
    "execution": {
     "iopub.execute_input": "2025-05-15T14:36:23.161251Z",
     "iopub.status.busy": "2025-05-15T14:36:23.160942Z",
     "iopub.status.idle": "2025-05-15T14:36:23.165663Z",
     "shell.execute_reply": "2025-05-15T14:36:23.164834Z"
    },
    "papermill": {
     "duration": 0.009067,
     "end_time": "2025-05-15T14:36:23.167097",
     "exception": false,
     "start_time": "2025-05-15T14:36:23.158030",
     "status": "completed"
    },
    "tags": []
   },
   "outputs": [],
   "source": [
    "DATA_DIR   = Path('/kaggle/input/face-mask-12k-images-dataset/Face Mask Dataset')\n",
    "LABELS     = ['WithMask', 'WithoutMask']\n",
    "IMAGE_SIZE = (128, 128)\n",
    "HOG_PARAMS = {\n",
    "    'orientations'    : 9,\n",
    "    'pixels_per_cell' : (8, 8),\n",
    "    'cells_per_block' : (2, 2),\n",
    "    'block_norm'      : 'L2-Hys',\n",
    "}"
   ]
  },
  {
   "cell_type": "code",
   "execution_count": 4,
   "id": "ff7baf23",
   "metadata": {
    "execution": {
     "iopub.execute_input": "2025-05-15T14:36:23.172721Z",
     "iopub.status.busy": "2025-05-15T14:36:23.172402Z",
     "iopub.status.idle": "2025-05-15T14:39:56.700646Z",
     "shell.execute_reply": "2025-05-15T14:39:56.699183Z"
    },
    "papermill": {
     "duration": 213.532808,
     "end_time": "2025-05-15T14:39:56.702277",
     "exception": false,
     "start_time": "2025-05-15T14:36:23.169469",
     "status": "completed"
    },
    "tags": []
   },
   "outputs": [
    {
     "name": "stderr",
     "output_type": "stream",
     "text": [
      "Loading Train/WithMask: 100%|██████████| 5000/5000 [01:45<00:00, 47.49it/s]\n",
      "Loading Train/WithoutMask: 100%|██████████| 5000/5000 [01:32<00:00, 54.26it/s]\n",
      "Loading Validation/WithMask: 100%|██████████| 400/400 [00:07<00:00, 50.27it/s]\n",
      "Loading Validation/WithoutMask: 100%|██████████| 400/400 [00:07<00:00, 53.30it/s]\n"
     ]
    }
   ],
   "source": [
    "X_train, y_train = load_split('Train')\n",
    "X_val,   y_val   = load_split('Validation')\n",
    "le = LabelEncoder()\n",
    "y_train_enc = le.fit_transform(y_train)\n",
    "y_val_enc   = le.transform(y_val)"
   ]
  },
  {
   "cell_type": "code",
   "execution_count": 5,
   "id": "00ae03ad",
   "metadata": {
    "execution": {
     "iopub.execute_input": "2025-05-15T14:39:56.878749Z",
     "iopub.status.busy": "2025-05-15T14:39:56.878368Z",
     "iopub.status.idle": "2025-05-15T14:39:56.885634Z",
     "shell.execute_reply": "2025-05-15T14:39:56.884568Z"
    },
    "papermill": {
     "duration": 0.09717,
     "end_time": "2025-05-15T14:39:56.887156",
     "exception": false,
     "start_time": "2025-05-15T14:39:56.789986",
     "status": "completed"
    },
    "tags": []
   },
   "outputs": [
    {
     "name": "stderr",
     "output_type": "stream",
     "text": [
      "/usr/local/lib/python3.11/dist-packages/optuna/_experimental.py:31: ExperimentalWarning: Argument ``multivariate`` is an experimental feature. The interface can change in the future.\n",
      "  warnings.warn(\n",
      "[I 2025-05-15 14:39:56,882] A new study created in memory with name: no-name-f929dfed-471c-4376-87f0-903224c5b9da\n"
     ]
    }
   ],
   "source": [
    "study = optuna.create_study(\n",
    "    direction='maximize',\n",
    "    pruner=MedianPruner(n_startup_trials=5, n_warmup_steps=1, interval_steps=1),\n",
    "    sampler=TPESampler(multivariate=True)\n",
    ")"
   ]
  },
  {
   "cell_type": "code",
   "execution_count": 6,
   "id": "1a00c925",
   "metadata": {
    "execution": {
     "iopub.execute_input": "2025-05-15T14:39:57.064558Z",
     "iopub.status.busy": "2025-05-15T14:39:57.064172Z",
     "iopub.status.idle": "2025-05-15T15:11:44.437977Z",
     "shell.execute_reply": "2025-05-15T15:11:44.436903Z"
    },
    "papermill": {
     "duration": 1907.516904,
     "end_time": "2025-05-15T15:11:44.492856",
     "exception": false,
     "start_time": "2025-05-15T14:39:56.975952",
     "status": "completed"
    },
    "tags": []
   },
   "outputs": [
    {
     "name": "stderr",
     "output_type": "stream",
     "text": [
      "[I 2025-05-15 14:40:23,137] Trial 1 finished with value: 0.975 and parameters: {'max_depth': 9, 'min_samples_split': 13, 'min_samples_leaf': 3, 'max_features': 'log2'}. Best is trial 1 with value: 0.975.\n",
      "[I 2025-05-15 14:40:29,377] Trial 0 finished with value: 0.98 and parameters: {'max_depth': 15, 'min_samples_split': 7, 'min_samples_leaf': 7, 'max_features': 'log2'}. Best is trial 0 with value: 0.98.\n",
      "[I 2025-05-15 14:40:29,633] Trial 3 finished with value: 0.97625 and parameters: {'max_depth': 29, 'min_samples_split': 2, 'min_samples_leaf': 9, 'max_features': 'log2'}. Best is trial 0 with value: 0.98.\n",
      "[I 2025-05-15 14:41:08,139] Trial 6 finished with value: 0.97625 and parameters: {'max_depth': 40, 'min_samples_split': 3, 'min_samples_leaf': 8, 'max_features': 'log2'}. Best is trial 0 with value: 0.98.\n",
      "[I 2025-05-15 14:41:40,875] Trial 7 finished with value: 0.97625 and parameters: {'max_depth': 27, 'min_samples_split': 5, 'min_samples_leaf': 8, 'max_features': 'log2'}. Best is trial 0 with value: 0.98.\n",
      "[I 2025-05-15 14:43:57,098] Trial 2 finished with value: 0.9825 and parameters: {'max_depth': 18, 'min_samples_split': 16, 'min_samples_leaf': 8, 'max_features': 'sqrt'}. Best is trial 2 with value: 0.9825.\n",
      "[I 2025-05-15 14:44:31,999] Trial 5 finished with value: 0.9825 and parameters: {'max_depth': 27, 'min_samples_split': 20, 'min_samples_leaf': 8, 'max_features': 'sqrt'}. Best is trial 2 with value: 0.9825.\n",
      "[I 2025-05-15 14:44:33,461] Trial 9 finished with value: 0.97625 and parameters: {'max_depth': 19, 'min_samples_split': 12, 'min_samples_leaf': 1, 'max_features': 'log2'}. Best is trial 2 with value: 0.9825.\n",
      "[I 2025-05-15 14:44:36,121] Trial 10 pruned. \n",
      "[I 2025-05-15 14:44:42,214] Trial 11 pruned. \n",
      "[I 2025-05-15 14:45:08,576] Trial 12 finished with value: 0.97625 and parameters: {'max_depth': 50, 'min_samples_split': 14, 'min_samples_leaf': 8, 'max_features': 'log2'}. Best is trial 2 with value: 0.9825.\n",
      "[I 2025-05-15 14:45:14,683] Trial 13 pruned. \n",
      "[I 2025-05-15 14:45:50,483] Trial 4 finished with value: 0.98625 and parameters: {'max_depth': 32, 'min_samples_split': 7, 'min_samples_leaf': 1, 'max_features': 'sqrt'}. Best is trial 4 with value: 0.98625.\n",
      "[I 2025-05-15 14:46:36,677] Trial 8 finished with value: 0.98375 and parameters: {'max_depth': 30, 'min_samples_split': 9, 'min_samples_leaf': 2, 'max_features': 'sqrt'}. Best is trial 4 with value: 0.98625.\n",
      "[I 2025-05-15 14:49:06,839] Trial 14 finished with value: 0.9825 and parameters: {'max_depth': 23, 'min_samples_split': 17, 'min_samples_leaf': 8, 'max_features': 'sqrt'}. Best is trial 4 with value: 0.98625.\n",
      "[I 2025-05-15 14:49:13,970] Trial 15 finished with value: 0.98375 and parameters: {'max_depth': 26, 'min_samples_split': 17, 'min_samples_leaf': 8, 'max_features': 'sqrt'}. Best is trial 4 with value: 0.98625.\n",
      "[I 2025-05-15 14:51:29,469] Trial 16 finished with value: 0.9825 and parameters: {'max_depth': 29, 'min_samples_split': 5, 'min_samples_leaf': 1, 'max_features': 'sqrt'}. Best is trial 4 with value: 0.98625.\n",
      "[I 2025-05-15 14:51:34,070] Trial 17 finished with value: 0.98625 and parameters: {'max_depth': 35, 'min_samples_split': 6, 'min_samples_leaf': 2, 'max_features': 'sqrt'}. Best is trial 4 with value: 0.98625.\n",
      "[I 2025-05-15 14:54:02,625] Trial 19 finished with value: 0.98375 and parameters: {'max_depth': 40, 'min_samples_split': 10, 'min_samples_leaf': 3, 'max_features': 'sqrt'}. Best is trial 4 with value: 0.98625.\n",
      "[I 2025-05-15 14:54:04,001] Trial 18 finished with value: 0.98625 and parameters: {'max_depth': 37, 'min_samples_split': 6, 'min_samples_leaf': 2, 'max_features': 'sqrt'}. Best is trial 4 with value: 0.98625.\n",
      "[I 2025-05-15 14:54:12,540] Trial 23 pruned. \n",
      "[I 2025-05-15 14:54:21,677] Trial 24 pruned. \n",
      "[I 2025-05-15 14:55:52,583] Trial 21 finished with value: 0.9825 and parameters: {'max_depth': 29, 'min_samples_split': 2, 'min_samples_leaf': 5, 'max_features': 'sqrt'}. Best is trial 4 with value: 0.98625.\n",
      "[I 2025-05-15 14:56:12,874] Trial 20 finished with value: 0.9825 and parameters: {'max_depth': 38, 'min_samples_split': 13, 'min_samples_leaf': 3, 'max_features': 'sqrt'}. Best is trial 4 with value: 0.98625.\n",
      "[I 2025-05-15 14:57:17,146] Trial 22 finished with value: 0.985 and parameters: {'max_depth': 10, 'min_samples_split': 6, 'min_samples_leaf': 4, 'max_features': 'sqrt'}. Best is trial 4 with value: 0.98625.\n",
      "[I 2025-05-15 14:57:31,878] Trial 27 pruned. \n",
      "[I 2025-05-15 14:58:38,320] Trial 25 finished with value: 0.9825 and parameters: {'max_depth': 42, 'min_samples_split': 2, 'min_samples_leaf': 5, 'max_features': 'sqrt'}. Best is trial 4 with value: 0.98625.\n",
      "[I 2025-05-15 15:00:35,844] Trial 26 finished with value: 0.985 and parameters: {'max_depth': 50, 'min_samples_split': 6, 'min_samples_leaf': 3, 'max_features': 'sqrt'}. Best is trial 4 with value: 0.98625.\n",
      "[I 2025-05-15 15:00:45,102] Trial 31 pruned. \n",
      "[I 2025-05-15 15:01:53,561] Trial 29 finished with value: 0.9825 and parameters: {'max_depth': 48, 'min_samples_split': 3, 'min_samples_leaf': 5, 'max_features': 'sqrt'}. Best is trial 4 with value: 0.98625.\n",
      "[I 2025-05-15 15:02:38,632] Trial 33 pruned. \n",
      "[I 2025-05-15 15:02:44,657] Trial 28 finished with value: 0.98375 and parameters: {'max_depth': 48, 'min_samples_split': 5, 'min_samples_leaf': 1, 'max_features': 'sqrt'}. Best is trial 4 with value: 0.98625.\n",
      "[I 2025-05-15 15:03:22,108] Trial 30 finished with value: 0.98375 and parameters: {'max_depth': 18, 'min_samples_split': 10, 'min_samples_leaf': 1, 'max_features': 'sqrt'}. Best is trial 4 with value: 0.98625.\n",
      "[I 2025-05-15 15:03:40,241] Trial 34 pruned. \n",
      "[I 2025-05-15 15:03:50,104] Trial 36 pruned. \n",
      "[I 2025-05-15 15:05:01,743] Trial 37 pruned. \n",
      "[I 2025-05-15 15:05:09,309] Trial 39 pruned. \n",
      "[I 2025-05-15 15:05:11,925] Trial 38 pruned. \n",
      "[I 2025-05-15 15:05:30,830] Trial 32 finished with value: 0.985 and parameters: {'max_depth': 33, 'min_samples_split': 5, 'min_samples_leaf': 3, 'max_features': 'sqrt'}. Best is trial 4 with value: 0.98625.\n",
      "[I 2025-05-15 15:05:39,180] Trial 42 pruned. \n",
      "[I 2025-05-15 15:06:31,751] Trial 35 finished with value: 0.9825 and parameters: {'max_depth': 13, 'min_samples_split': 7, 'min_samples_leaf': 4, 'max_features': 'sqrt'}. Best is trial 4 with value: 0.98625.\n",
      "[I 2025-05-15 15:06:40,500] Trial 43 pruned. \n",
      "[I 2025-05-15 15:07:37,816] Trial 44 pruned. \n",
      "[I 2025-05-15 15:08:49,951] Trial 40 finished with value: 0.9875 and parameters: {'max_depth': 13, 'min_samples_split': 10, 'min_samples_leaf': 6, 'max_features': 'sqrt'}. Best is trial 40 with value: 0.9875.\n",
      "[I 2025-05-15 15:08:53,670] Trial 46 pruned. \n",
      "[I 2025-05-15 15:09:30,511] Trial 41 finished with value: 0.9825 and parameters: {'max_depth': 32, 'min_samples_split': 8, 'min_samples_leaf': 5, 'max_features': 'sqrt'}. Best is trial 40 with value: 0.9875.\n",
      "[I 2025-05-15 15:09:41,490] Trial 47 pruned. \n",
      "[I 2025-05-15 15:10:34,648] Trial 48 pruned. \n",
      "[I 2025-05-15 15:10:50,221] Trial 45 finished with value: 0.9825 and parameters: {'max_depth': 48, 'min_samples_split': 10, 'min_samples_leaf': 5, 'max_features': 'sqrt'}. Best is trial 40 with value: 0.9875.\n",
      "[I 2025-05-15 15:11:44,393] Trial 49 finished with value: 0.98 and parameters: {'max_depth': 8, 'min_samples_split': 16, 'min_samples_leaf': 5, 'max_features': 'sqrt'}. Best is trial 40 with value: 0.9875.\n"
     ]
    },
    {
     "name": "stdout",
     "output_type": "stream",
     "text": [
      "Best validation accuracy: 0.9875\n",
      "Best parameters: {'max_depth': 13, 'min_samples_split': 10, 'min_samples_leaf': 6, 'max_features': 'sqrt'}\n"
     ]
    }
   ],
   "source": [
    "study.optimize(objective, n_trials=50, n_jobs=4)\n",
    "\n",
    "# --- Kết quả ---\n",
    "print(\"Best validation accuracy:\", study.best_value)\n",
    "print(\"Best parameters:\", study.best_params)"
   ]
  },
  {
   "cell_type": "code",
   "execution_count": 7,
   "id": "4fd6180d",
   "metadata": {
    "execution": {
     "iopub.execute_input": "2025-05-15T15:11:44.680672Z",
     "iopub.status.busy": "2025-05-15T15:11:44.680333Z",
     "iopub.status.idle": "2025-05-15T15:12:02.885146Z",
     "shell.execute_reply": "2025-05-15T15:12:02.884012Z"
    },
    "papermill": {
     "duration": 18.302365,
     "end_time": "2025-05-15T15:12:02.886751",
     "exception": false,
     "start_time": "2025-05-15T15:11:44.584386",
     "status": "completed"
    },
    "tags": []
   },
   "outputs": [
    {
     "name": "stderr",
     "output_type": "stream",
     "text": [
      "Loading Test/WithMask: 100%|██████████| 483/483 [00:09<00:00, 51.15it/s]\n",
      "Loading Test/WithoutMask: 100%|██████████| 509/509 [00:08<00:00, 59.26it/s]\n"
     ]
    },
    {
     "name": "stdout",
     "output_type": "stream",
     "text": [
      "\n",
      "Test Accuracy: 0.9858870967741935\n",
      "\n",
      "Classification Report:\n",
      "              precision    recall  f1-score   support\n",
      "\n",
      "    WithMask       0.98      1.00      0.99       483\n",
      " WithoutMask       1.00      0.98      0.99       509\n",
      "\n",
      "    accuracy                           0.99       992\n",
      "   macro avg       0.99      0.99      0.99       992\n",
      "weighted avg       0.99      0.99      0.99       992\n",
      "\n"
     ]
    }
   ],
   "source": [
    "best_clf = study.best_trial.user_attrs[\"model\"]\n",
    "\n",
    "X_test, y_test = load_split('Test')\n",
    "y_test_enc     = le.transform(y_test)\n",
    "y_pred         = best_clf.predict(X_test)\n",
    "\n",
    "print(\"\\nTest Accuracy:\", accuracy_score(y_test_enc, y_pred))\n",
    "print(\"\\nClassification Report:\")\n",
    "print(classification_report(y_test_enc, y_pred, target_names=le.classes_))"
   ]
  },
  {
   "cell_type": "code",
   "execution_count": 8,
   "id": "016dff53",
   "metadata": {
    "execution": {
     "iopub.execute_input": "2025-05-15T15:12:03.121687Z",
     "iopub.status.busy": "2025-05-15T15:12:03.120591Z",
     "iopub.status.idle": "2025-05-15T15:12:03.199356Z",
     "shell.execute_reply": "2025-05-15T15:12:03.198321Z"
    },
    "papermill": {
     "duration": 0.182549,
     "end_time": "2025-05-15T15:12:03.201092",
     "exception": false,
     "start_time": "2025-05-15T15:12:03.018543",
     "status": "completed"
    },
    "tags": []
   },
   "outputs": [
    {
     "name": "stdout",
     "output_type": "stream",
     "text": [
      "\n",
      "Model và encoder đã được lưu vào hog_rf_face_mask_model_optuna_direct.joblib\n"
     ]
    }
   ],
   "source": [
    "joblib.dump({'model': best_clf, 'label_encoder': le},\n",
    "            'hog_rf_face_mask_model_optuna_direct.joblib')\n",
    "print('\\nModel và encoder đã được lưu vào hog_rf_face_mask_model_optuna_direct.joblib')"
   ]
  }
 ],
 "metadata": {
  "kaggle": {
   "accelerator": "none",
   "dataSources": [
    {
     "datasetId": 675484,
     "sourceId": 1187790,
     "sourceType": "datasetVersion"
    }
   ],
   "dockerImageVersionId": 31040,
   "isGpuEnabled": false,
   "isInternetEnabled": true,
   "language": "python",
   "sourceType": "notebook"
  },
  "kernelspec": {
   "display_name": "Python 3",
   "language": "python",
   "name": "python3"
  },
  "language_info": {
   "codemirror_mode": {
    "name": "ipython",
    "version": 3
   },
   "file_extension": ".py",
   "mimetype": "text/x-python",
   "name": "python",
   "nbconvert_exporter": "python",
   "pygments_lexer": "ipython3",
   "version": "3.11.11"
  },
  "papermill": {
   "default_parameters": {},
   "duration": 2148.451263,
   "end_time": "2025-05-15T15:12:03.923569",
   "environment_variables": {},
   "exception": null,
   "input_path": "__notebook__.ipynb",
   "output_path": "__notebook__.ipynb",
   "parameters": {},
   "start_time": "2025-05-15T14:36:15.472306",
   "version": "2.6.0"
  }
 },
 "nbformat": 4,
 "nbformat_minor": 5
}
