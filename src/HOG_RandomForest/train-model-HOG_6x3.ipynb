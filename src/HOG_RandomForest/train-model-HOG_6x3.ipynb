{
 "cells": [
  {
   "cell_type": "code",
   "execution_count": 1,
   "id": "925828a2",
   "metadata": {
    "execution": {
     "iopub.execute_input": "2025-05-15T14:36:50.820393Z",
     "iopub.status.busy": "2025-05-15T14:36:50.820010Z",
     "iopub.status.idle": "2025-05-15T14:36:55.272858Z",
     "shell.execute_reply": "2025-05-15T14:36:55.271982Z"
    },
    "papermill": {
     "duration": 4.460868,
     "end_time": "2025-05-15T14:36:55.274557",
     "exception": false,
     "start_time": "2025-05-15T14:36:50.813689",
     "status": "completed"
    },
    "tags": []
   },
   "outputs": [],
   "source": [
    "import os\n",
    "from pathlib import Path\n",
    "\n",
    "import numpy as np\n",
    "from skimage.io import imread\n",
    "from skimage.color import rgb2gray\n",
    "from skimage.transform import resize\n",
    "from skimage.feature import hog\n",
    "\n",
    "from sklearn.ensemble import RandomForestClassifier\n",
    "from sklearn.preprocessing import LabelEncoder\n",
    "from sklearn.metrics import accuracy_score, classification_report\n",
    "from tqdm import tqdm\n",
    "\n",
    "import optuna\n",
    "from optuna.pruners import MedianPruner\n",
    "from optuna.samplers import TPESampler\n",
    "import joblib"
   ]
  },
  {
   "cell_type": "code",
   "execution_count": 2,
   "id": "c8b7238c",
   "metadata": {
    "execution": {
     "iopub.execute_input": "2025-05-15T14:36:55.281439Z",
     "iopub.status.busy": "2025-05-15T14:36:55.280633Z",
     "iopub.status.idle": "2025-05-15T14:36:55.291568Z",
     "shell.execute_reply": "2025-05-15T14:36:55.290371Z"
    },
    "papermill": {
     "duration": 0.016059,
     "end_time": "2025-05-15T14:36:55.293342",
     "exception": false,
     "start_time": "2025-05-15T14:36:55.277283",
     "status": "completed"
    },
    "tags": []
   },
   "outputs": [],
   "source": [
    "def extract_hog_features(path: Path) -> np.ndarray:\n",
    "    img = imread(path)\n",
    "    gray = rgb2gray(img) if img.ndim == 3 else img\n",
    "    gray = resize(gray, IMAGE_SIZE, anti_aliasing=True)\n",
    "    return hog(gray, **HOG_PARAMS)\n",
    "\n",
    "def load_split(split: str):\n",
    "    X, y = [], []\n",
    "    for label in LABELS:\n",
    "        folder = DATA_DIR / split / label\n",
    "        for img_path in tqdm(list(folder.glob('*.*')), desc=f'Loading {split}/{label}'):\n",
    "            try:\n",
    "                X.append(extract_hog_features(img_path))\n",
    "                y.append(label)\n",
    "            except Exception as e:\n",
    "                print(f'-- error reading {img_path}: {e}')\n",
    "    return np.vstack(X), np.array(y)\n",
    "\n",
    "def objective(trial):\n",
    "    # Không gian tham số với warm_start để incremental fit :contentReference[oaicite:6]{index=6}\n",
    "    params = {\n",
    "        'n_estimators'      : 10,  # sẽ tăng dần\n",
    "        'max_depth'         : trial.suggest_int('max_depth', 5, 50),\n",
    "        'min_samples_split' : trial.suggest_int('min_samples_split', 2, 20),\n",
    "        'min_samples_leaf'  : trial.suggest_int('min_samples_leaf', 1, 10),\n",
    "        'max_features'      : trial.suggest_categorical('max_features', ['sqrt', 'log2']),  # bỏ None để giảm time\n",
    "        'random_state'      : 42,\n",
    "        'warm_start'        : True,\n",
    "        'n_jobs'            : 1\n",
    "    }\n",
    "    clf = RandomForestClassifier(**params)\n",
    "    # Incremental training & pruning :contentReference[oaicite:7]{index=7} :contentReference[oaicite:8]{index=8}\n",
    "    for n in [50, 100, 150, 200]:\n",
    "        clf.set_params(n_estimators=n)\n",
    "        clf.fit(X_train, y_train_enc)\n",
    "        acc = accuracy_score(y_val_enc, clf.predict(X_val))\n",
    "        trial.report(acc, n)\n",
    "        if trial.should_prune():\n",
    "            raise optuna.TrialPruned()\n",
    "    # Lưu instance model cuối cùng\n",
    "    trial.set_user_attr(\"model\", clf)\n",
    "    return acc"
   ]
  },
  {
   "cell_type": "code",
   "execution_count": 3,
   "id": "034cfb21",
   "metadata": {
    "execution": {
     "iopub.execute_input": "2025-05-15T14:36:55.299277Z",
     "iopub.status.busy": "2025-05-15T14:36:55.298948Z",
     "iopub.status.idle": "2025-05-15T14:36:55.304525Z",
     "shell.execute_reply": "2025-05-15T14:36:55.303541Z"
    },
    "papermill": {
     "duration": 0.010891,
     "end_time": "2025-05-15T14:36:55.306637",
     "exception": false,
     "start_time": "2025-05-15T14:36:55.295746",
     "status": "completed"
    },
    "tags": []
   },
   "outputs": [],
   "source": [
    "DATA_DIR   = Path('/kaggle/input/face-mask-12k-images-dataset/Face Mask Dataset')\n",
    "LABELS     = ['WithMask', 'WithoutMask']\n",
    "IMAGE_SIZE = (128, 128)\n",
    "HOG_PARAMS = {\n",
    "    'orientations'    : 9,\n",
    "    'pixels_per_cell' : (6, 6),\n",
    "    'cells_per_block' : (3, 3),\n",
    "    'block_norm'      : 'L2-Hys',\n",
    "}"
   ]
  },
  {
   "cell_type": "code",
   "execution_count": 4,
   "id": "83e6670f",
   "metadata": {
    "execution": {
     "iopub.execute_input": "2025-05-15T14:36:55.314911Z",
     "iopub.status.busy": "2025-05-15T14:36:55.314544Z",
     "iopub.status.idle": "2025-05-15T14:40:53.296401Z",
     "shell.execute_reply": "2025-05-15T14:40:53.295332Z"
    },
    "papermill": {
     "duration": 237.988279,
     "end_time": "2025-05-15T14:40:53.298463",
     "exception": false,
     "start_time": "2025-05-15T14:36:55.310184",
     "status": "completed"
    },
    "tags": []
   },
   "outputs": [
    {
     "name": "stderr",
     "output_type": "stream",
     "text": [
      "Loading Train/WithMask: 100%|██████████| 5000/5000 [02:00<00:00, 41.59it/s]\n",
      "Loading Train/WithoutMask: 100%|██████████| 5000/5000 [01:39<00:00, 50.18it/s]\n",
      "Loading Validation/WithMask: 100%|██████████| 400/400 [00:08<00:00, 47.06it/s]\n",
      "Loading Validation/WithoutMask: 100%|██████████| 400/400 [00:08<00:00, 47.38it/s]\n"
     ]
    }
   ],
   "source": [
    "X_train, y_train = load_split('Train')\n",
    "X_val,   y_val   = load_split('Validation')\n",
    "le = LabelEncoder()\n",
    "y_train_enc = le.fit_transform(y_train)\n",
    "y_val_enc   = le.transform(y_val)"
   ]
  },
  {
   "cell_type": "code",
   "execution_count": 5,
   "id": "03d6d8d9",
   "metadata": {
    "execution": {
     "iopub.execute_input": "2025-05-15T14:40:53.492596Z",
     "iopub.status.busy": "2025-05-15T14:40:53.491846Z",
     "iopub.status.idle": "2025-05-15T14:40:53.497809Z",
     "shell.execute_reply": "2025-05-15T14:40:53.497116Z"
    },
    "papermill": {
     "duration": 0.103813,
     "end_time": "2025-05-15T14:40:53.499084",
     "exception": false,
     "start_time": "2025-05-15T14:40:53.395271",
     "status": "completed"
    },
    "tags": []
   },
   "outputs": [
    {
     "name": "stderr",
     "output_type": "stream",
     "text": [
      "/usr/local/lib/python3.11/dist-packages/optuna/_experimental.py:31: ExperimentalWarning: Argument ``multivariate`` is an experimental feature. The interface can change in the future.\n",
      "  warnings.warn(\n",
      "[I 2025-05-15 14:40:53,494] A new study created in memory with name: no-name-2a97e06c-259e-4473-9e1b-67578ae4728a\n"
     ]
    }
   ],
   "source": [
    "study = optuna.create_study(\n",
    "    direction='maximize',\n",
    "    pruner=MedianPruner(n_startup_trials=5, n_warmup_steps=1, interval_steps=1),\n",
    "    sampler=TPESampler(multivariate=True)\n",
    ")"
   ]
  },
  {
   "cell_type": "code",
   "execution_count": 6,
   "id": "fd99912c",
   "metadata": {
    "execution": {
     "iopub.execute_input": "2025-05-15T14:40:53.694265Z",
     "iopub.status.busy": "2025-05-15T14:40:53.693956Z",
     "iopub.status.idle": "2025-05-15T15:26:29.886350Z",
     "shell.execute_reply": "2025-05-15T15:26:29.885377Z"
    },
    "papermill": {
     "duration": 2736.3534,
     "end_time": "2025-05-15T15:26:29.949304",
     "exception": false,
     "start_time": "2025-05-15T14:40:53.595904",
     "status": "completed"
    },
    "tags": []
   },
   "outputs": [
    {
     "name": "stderr",
     "output_type": "stream",
     "text": [
      "[I 2025-05-15 14:41:32,692] Trial 2 finished with value: 0.98 and parameters: {'max_depth': 19, 'min_samples_split': 14, 'min_samples_leaf': 3, 'max_features': 'log2'}. Best is trial 2 with value: 0.98.\n",
      "[I 2025-05-15 14:47:17,209] Trial 4 finished with value: 0.985 and parameters: {'max_depth': 10, 'min_samples_split': 20, 'min_samples_leaf': 2, 'max_features': 'sqrt'}. Best is trial 4 with value: 0.985.\n",
      "[I 2025-05-15 14:47:49,688] Trial 3 finished with value: 0.98125 and parameters: {'max_depth': 47, 'min_samples_split': 12, 'min_samples_leaf': 10, 'max_features': 'sqrt'}. Best is trial 4 with value: 0.985.\n",
      "[I 2025-05-15 14:47:55,520] Trial 0 finished with value: 0.98125 and parameters: {'max_depth': 19, 'min_samples_split': 14, 'min_samples_leaf': 9, 'max_features': 'sqrt'}. Best is trial 4 with value: 0.985.\n",
      "[I 2025-05-15 14:48:18,512] Trial 1 finished with value: 0.98375 and parameters: {'max_depth': 42, 'min_samples_split': 12, 'min_samples_leaf': 7, 'max_features': 'sqrt'}. Best is trial 4 with value: 0.985.\n",
      "[I 2025-05-15 14:48:22,366] Trial 6 pruned. \n",
      "[I 2025-05-15 14:48:27,357] Trial 8 pruned. \n",
      "[I 2025-05-15 14:48:28,034] Trial 9 pruned. \n",
      "[I 2025-05-15 14:48:36,874] Trial 10 pruned. \n",
      "[I 2025-05-15 14:48:46,225] Trial 12 pruned. \n",
      "[I 2025-05-15 14:49:34,507] Trial 13 pruned. \n",
      "[I 2025-05-15 14:50:51,087] Trial 5 pruned. \n",
      "[I 2025-05-15 14:50:59,780] Trial 11 pruned. \n",
      "[I 2025-05-15 14:51:50,813] Trial 7 pruned. \n",
      "[I 2025-05-15 14:53:00,113] Trial 16 pruned. \n",
      "[I 2025-05-15 14:53:47,897] Trial 18 pruned. \n",
      "[I 2025-05-15 14:55:47,104] Trial 15 pruned. \n",
      "[I 2025-05-15 14:57:48,332] Trial 14 finished with value: 0.985 and parameters: {'max_depth': 37, 'min_samples_split': 7, 'min_samples_leaf': 4, 'max_features': 'sqrt'}. Best is trial 4 with value: 0.985.\n",
      "[I 2025-05-15 14:59:31,260] Trial 20 pruned. \n",
      "[I 2025-05-15 14:59:33,707] Trial 21 pruned. \n",
      "[I 2025-05-15 14:59:46,963] Trial 17 finished with value: 0.985 and parameters: {'max_depth': 16, 'min_samples_split': 15, 'min_samples_leaf': 1, 'max_features': 'sqrt'}. Best is trial 4 with value: 0.985.\n",
      "[I 2025-05-15 15:00:21,610] Trial 23 pruned. \n",
      "[I 2025-05-15 15:01:47,048] Trial 24 pruned. \n",
      "[I 2025-05-15 15:02:15,032] Trial 25 pruned. \n",
      "[I 2025-05-15 15:02:24,687] Trial 19 finished with value: 0.98875 and parameters: {'max_depth': 26, 'min_samples_split': 15, 'min_samples_leaf': 3, 'max_features': 'sqrt'}. Best is trial 19 with value: 0.98875.\n",
      "[I 2025-05-15 15:04:06,126] Trial 26 pruned. \n",
      "[I 2025-05-15 15:04:33,574] Trial 28 pruned. \n",
      "[I 2025-05-15 15:04:42,706] Trial 30 pruned. \n",
      "[I 2025-05-15 15:05:06,624] Trial 22 pruned. \n",
      "[I 2025-05-15 15:06:06,236] Trial 27 pruned. \n",
      "[I 2025-05-15 15:06:15,544] Trial 33 pruned. \n",
      "[I 2025-05-15 15:06:40,878] Trial 31 pruned. \n",
      "[I 2025-05-15 15:07:26,253] Trial 32 pruned. \n",
      "[I 2025-05-15 15:10:55,440] Trial 35 pruned. \n",
      "[I 2025-05-15 15:11:05,549] Trial 37 pruned. \n",
      "[I 2025-05-15 15:12:09,919] Trial 36 pruned. \n",
      "[I 2025-05-15 15:12:19,351] Trial 29 finished with value: 0.985 and parameters: {'max_depth': 38, 'min_samples_split': 3, 'min_samples_leaf': 4, 'max_features': 'sqrt'}. Best is trial 19 with value: 0.98875.\n",
      "[I 2025-05-15 15:12:27,805] Trial 40 pruned. \n",
      "[I 2025-05-15 15:14:06,439] Trial 39 pruned. \n",
      "[I 2025-05-15 15:14:14,862] Trial 42 pruned. \n",
      "[I 2025-05-15 15:14:24,032] Trial 43 pruned. \n",
      "[I 2025-05-15 15:14:24,691] Trial 34 finished with value: 0.98375 and parameters: {'max_depth': 18, 'min_samples_split': 12, 'min_samples_leaf': 2, 'max_features': 'sqrt'}. Best is trial 19 with value: 0.98875.\n",
      "[I 2025-05-15 15:15:09,465] Trial 41 pruned. \n",
      "[I 2025-05-15 15:18:42,946] Trial 44 pruned. \n",
      "[I 2025-05-15 15:19:27,576] Trial 38 finished with value: 0.98375 and parameters: {'max_depth': 18, 'min_samples_split': 16, 'min_samples_leaf': 1, 'max_features': 'sqrt'}. Best is trial 19 with value: 0.98875.\n",
      "[I 2025-05-15 15:22:33,999] Trial 45 finished with value: 0.985 and parameters: {'max_depth': 37, 'min_samples_split': 5, 'min_samples_leaf': 4, 'max_features': 'sqrt'}. Best is trial 19 with value: 0.98875.\n",
      "[I 2025-05-15 15:22:43,457] Trial 49 pruned. \n",
      "[I 2025-05-15 15:23:12,845] Trial 46 finished with value: 0.985 and parameters: {'max_depth': 38, 'min_samples_split': 6, 'min_samples_leaf': 4, 'max_features': 'sqrt'}. Best is trial 19 with value: 0.98875.\n",
      "[I 2025-05-15 15:25:57,619] Trial 47 finished with value: 0.985 and parameters: {'max_depth': 38, 'min_samples_split': 3, 'min_samples_leaf': 4, 'max_features': 'sqrt'}. Best is trial 19 with value: 0.98875.\n",
      "[I 2025-05-15 15:26:29,834] Trial 48 finished with value: 0.985 and parameters: {'max_depth': 41, 'min_samples_split': 6, 'min_samples_leaf': 4, 'max_features': 'sqrt'}. Best is trial 19 with value: 0.98875.\n"
     ]
    },
    {
     "name": "stdout",
     "output_type": "stream",
     "text": [
      "Best validation accuracy: 0.98875\n",
      "Best parameters: {'max_depth': 26, 'min_samples_split': 15, 'min_samples_leaf': 3, 'max_features': 'sqrt'}\n"
     ]
    }
   ],
   "source": [
    "study.optimize(objective, n_trials=50, n_jobs=4)\n",
    "\n",
    "# --- Kết quả ---\n",
    "print(\"Best validation accuracy:\", study.best_value)\n",
    "print(\"Best parameters:\", study.best_params)"
   ]
  },
  {
   "cell_type": "code",
   "execution_count": 7,
   "id": "2f41d533",
   "metadata": {
    "execution": {
     "iopub.execute_input": "2025-05-15T15:26:30.150096Z",
     "iopub.status.busy": "2025-05-15T15:26:30.149739Z",
     "iopub.status.idle": "2025-05-15T15:26:52.901495Z",
     "shell.execute_reply": "2025-05-15T15:26:52.900540Z"
    },
    "papermill": {
     "duration": 22.852608,
     "end_time": "2025-05-15T15:26:52.903088",
     "exception": false,
     "start_time": "2025-05-15T15:26:30.050480",
     "status": "completed"
    },
    "tags": []
   },
   "outputs": [
    {
     "name": "stderr",
     "output_type": "stream",
     "text": [
      "Loading Test/WithMask: 100%|██████████| 483/483 [00:11<00:00, 41.61it/s]\n",
      "Loading Test/WithoutMask: 100%|██████████| 509/509 [00:10<00:00, 47.03it/s]\n"
     ]
    },
    {
     "name": "stdout",
     "output_type": "stream",
     "text": [
      "\n",
      "Test Accuracy: 0.9818548387096774\n",
      "\n",
      "Classification Report:\n",
      "              precision    recall  f1-score   support\n",
      "\n",
      "    WithMask       0.97      0.99      0.98       483\n",
      " WithoutMask       0.99      0.97      0.98       509\n",
      "\n",
      "    accuracy                           0.98       992\n",
      "   macro avg       0.98      0.98      0.98       992\n",
      "weighted avg       0.98      0.98      0.98       992\n",
      "\n"
     ]
    }
   ],
   "source": [
    "best_clf = study.best_trial.user_attrs[\"model\"]\n",
    "\n",
    "X_test, y_test = load_split('Test')\n",
    "y_test_enc     = le.transform(y_test)\n",
    "y_pred         = best_clf.predict(X_test)\n",
    "\n",
    "print(\"\\nTest Accuracy:\", accuracy_score(y_test_enc, y_pred))\n",
    "print(\"\\nClassification Report:\")\n",
    "print(classification_report(y_test_enc, y_pred, target_names=le.classes_))"
   ]
  },
  {
   "cell_type": "code",
   "execution_count": 8,
   "id": "ffa3caae",
   "metadata": {
    "execution": {
     "iopub.execute_input": "2025-05-15T15:26:53.126343Z",
     "iopub.status.busy": "2025-05-15T15:26:53.126023Z",
     "iopub.status.idle": "2025-05-15T15:26:53.206447Z",
     "shell.execute_reply": "2025-05-15T15:26:53.205023Z"
    },
    "papermill": {
     "duration": 0.194446,
     "end_time": "2025-05-15T15:26:53.208501",
     "exception": false,
     "start_time": "2025-05-15T15:26:53.014055",
     "status": "completed"
    },
    "tags": []
   },
   "outputs": [
    {
     "name": "stdout",
     "output_type": "stream",
     "text": [
      "\n",
      "Model và encoder đã được lưu vào hog_rf_face_mask_model_optuna_direct.joblib\n"
     ]
    }
   ],
   "source": [
    "joblib.dump({'model': best_clf, 'label_encoder': le},\n",
    "            'hog_rf_face_mask_model_optuna_direct.joblib')\n",
    "print('\\nModel và encoder đã được lưu vào hog_rf_face_mask_model_optuna_direct.joblib')"
   ]
  }
 ],
 "metadata": {
  "kaggle": {
   "accelerator": "none",
   "dataSources": [
    {
     "datasetId": 675484,
     "sourceId": 1187790,
     "sourceType": "datasetVersion"
    }
   ],
   "dockerImageVersionId": 31040,
   "isGpuEnabled": false,
   "isInternetEnabled": true,
   "language": "python",
   "sourceType": "notebook"
  },
  "kernelspec": {
   "display_name": "Python 3",
   "language": "python",
   "name": "python3"
  },
  "language_info": {
   "codemirror_mode": {
    "name": "ipython",
    "version": 3
   },
   "file_extension": ".py",
   "mimetype": "text/x-python",
   "name": "python",
   "nbconvert_exporter": "python",
   "pygments_lexer": "ipython3",
   "version": "3.11.11"
  },
  "papermill": {
   "default_parameters": {},
   "duration": 3009.758897,
   "end_time": "2025-05-15T15:26:54.341663",
   "environment_variables": {},
   "exception": null,
   "input_path": "__notebook__.ipynb",
   "output_path": "__notebook__.ipynb",
   "parameters": {},
   "start_time": "2025-05-15T14:36:44.582766",
   "version": "2.6.0"
  }
 },
 "nbformat": 4,
 "nbformat_minor": 5
}
